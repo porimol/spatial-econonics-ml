{
 "cells": [
  {
   "cell_type": "code",
   "execution_count": 1,
   "id": "897721ca-452f-44a4-834b-10f30cc0da8a",
   "metadata": {},
   "outputs": [],
   "source": [
    "import pandas as pd"
   ]
  },
  {
   "cell_type": "code",
   "execution_count": 2,
   "id": "f2e5ea32-b9df-4ba7-8e79-9245e53974de",
   "metadata": {},
   "outputs": [],
   "source": [
    "# df = pd.read_csv(\"dataset/source-destination-data-sample.csv\")\n",
    "immigrant_df = pd.read_csv(\"../dataset/immigrants/source-destination-data.csv\")"
   ]
  },
  {
   "cell_type": "code",
   "execution_count": 3,
   "id": "df0fbf07-45b4-4d82-88cb-285ead2ec569",
   "metadata": {},
   "outputs": [
    {
     "data": {
      "text/plain": [
       "(28030, 12)"
      ]
     },
     "execution_count": 3,
     "metadata": {},
     "output_type": "execute_result"
    }
   ],
   "source": [
    "immigrant_df.shape"
   ]
  },
  {
   "cell_type": "code",
   "execution_count": 4,
   "id": "6a9cfefe-b91b-4783-b651-46420945d174",
   "metadata": {},
   "outputs": [
    {
     "data": {
      "text/html": [
       "<div>\n",
       "<style scoped>\n",
       "    .dataframe tbody tr th:only-of-type {\n",
       "        vertical-align: middle;\n",
       "    }\n",
       "\n",
       "    .dataframe tbody tr th {\n",
       "        vertical-align: top;\n",
       "    }\n",
       "\n",
       "    .dataframe thead th {\n",
       "        text-align: right;\n",
       "    }\n",
       "</style>\n",
       "<table border=\"1\" class=\"dataframe\">\n",
       "  <thead>\n",
       "    <tr style=\"text-align: right;\">\n",
       "      <th></th>\n",
       "      <th>Region, development group, country or area of destination</th>\n",
       "      <th>Location code of destination</th>\n",
       "      <th>Region, development group, country or area of origin</th>\n",
       "      <th>Location code of origin</th>\n",
       "      <th>1990</th>\n",
       "      <th>1995</th>\n",
       "      <th>2000</th>\n",
       "      <th>2005</th>\n",
       "      <th>2010</th>\n",
       "      <th>2015</th>\n",
       "      <th>2020</th>\n",
       "      <th>2024</th>\n",
       "    </tr>\n",
       "  </thead>\n",
       "  <tbody>\n",
       "    <tr>\n",
       "      <th>0</th>\n",
       "      <td>World</td>\n",
       "      <td>900</td>\n",
       "      <td>World</td>\n",
       "      <td>900</td>\n",
       "      <td>153 916 063</td>\n",
       "      <td>163 176 002</td>\n",
       "      <td>174 566 152</td>\n",
       "      <td>192 788 721</td>\n",
       "      <td>221 020 392</td>\n",
       "      <td>250 042 020</td>\n",
       "      <td>275 284 032</td>\n",
       "      <td>304 021 813</td>\n",
       "    </tr>\n",
       "    <tr>\n",
       "      <th>1</th>\n",
       "      <td>World</td>\n",
       "      <td>900</td>\n",
       "      <td>Sub-Saharan Africa</td>\n",
       "      <td>1834</td>\n",
       "      <td>14 124 662</td>\n",
       "      <td>15 183 742</td>\n",
       "      <td>14 584 913</td>\n",
       "      <td>16 004 417</td>\n",
       "      <td>18 243 295</td>\n",
       "      <td>22 763 602</td>\n",
       "      <td>27 134 957</td>\n",
       "      <td>30 661 610</td>\n",
       "    </tr>\n",
       "    <tr>\n",
       "      <th>2</th>\n",
       "      <td>World</td>\n",
       "      <td>900</td>\n",
       "      <td>Northern Africa and Western Asia</td>\n",
       "      <td>1833</td>\n",
       "      <td>14 986 109</td>\n",
       "      <td>17 216 219</td>\n",
       "      <td>18 728 264</td>\n",
       "      <td>21 198 002</td>\n",
       "      <td>25 429 492</td>\n",
       "      <td>32 508 087</td>\n",
       "      <td>37 196 853</td>\n",
       "      <td>40 529 326</td>\n",
       "    </tr>\n",
       "    <tr>\n",
       "      <th>3</th>\n",
       "      <td>World</td>\n",
       "      <td>900</td>\n",
       "      <td>Central and Southern Asia</td>\n",
       "      <td>1831</td>\n",
       "      <td>30 342 957</td>\n",
       "      <td>27 930 630</td>\n",
       "      <td>30 008 559</td>\n",
       "      <td>32 445 580</td>\n",
       "      <td>39 400 759</td>\n",
       "      <td>46 011 893</td>\n",
       "      <td>48 594 959</td>\n",
       "      <td>53 948 417</td>\n",
       "    </tr>\n",
       "    <tr>\n",
       "      <th>4</th>\n",
       "      <td>World</td>\n",
       "      <td>900</td>\n",
       "      <td>Eastern and South-Eastern Asia</td>\n",
       "      <td>1832</td>\n",
       "      <td>14 465 509</td>\n",
       "      <td>17 262 816</td>\n",
       "      <td>20 822 011</td>\n",
       "      <td>24 315 849</td>\n",
       "      <td>30 053 666</td>\n",
       "      <td>34 562 856</td>\n",
       "      <td>38 223 520</td>\n",
       "      <td>41 409 235</td>\n",
       "    </tr>\n",
       "  </tbody>\n",
       "</table>\n",
       "</div>"
      ],
      "text/plain": [
       "  Region, development group, country or area of destination  \\\n",
       "0                                              World          \n",
       "1                                              World          \n",
       "2                                              World          \n",
       "3                                              World          \n",
       "4                                              World          \n",
       "\n",
       "   Location code of destination  \\\n",
       "0                           900   \n",
       "1                           900   \n",
       "2                           900   \n",
       "3                           900   \n",
       "4                           900   \n",
       "\n",
       "  Region, development group, country or area of origin  \\\n",
       "0                                              World     \n",
       "1                                 Sub-Saharan Africa     \n",
       "2                   Northern Africa and Western Asia     \n",
       "3                          Central and Southern Asia     \n",
       "4                     Eastern and South-Eastern Asia     \n",
       "\n",
       "   Location code of origin         1990         1995         2000  \\\n",
       "0                      900  153 916 063  163 176 002  174 566 152   \n",
       "1                     1834   14 124 662   15 183 742   14 584 913   \n",
       "2                     1833   14 986 109   17 216 219   18 728 264   \n",
       "3                     1831   30 342 957   27 930 630   30 008 559   \n",
       "4                     1832   14 465 509   17 262 816   20 822 011   \n",
       "\n",
       "          2005         2010         2015         2020         2024  \n",
       "0  192 788 721  221 020 392  250 042 020  275 284 032  304 021 813  \n",
       "1   16 004 417   18 243 295   22 763 602   27 134 957   30 661 610  \n",
       "2   21 198 002   25 429 492   32 508 087   37 196 853   40 529 326  \n",
       "3   32 445 580   39 400 759   46 011 893   48 594 959   53 948 417  \n",
       "4   24 315 849   30 053 666   34 562 856   38 223 520   41 409 235  "
      ]
     },
     "execution_count": 4,
     "metadata": {},
     "output_type": "execute_result"
    }
   ],
   "source": [
    "immigrant_df.head()"
   ]
  },
  {
   "cell_type": "code",
   "execution_count": 5,
   "id": "c715b222-5a20-4a56-92b0-ea8717a4f524",
   "metadata": {},
   "outputs": [],
   "source": [
    "immigrant_df.rename(columns={\n",
    "    \"Region, development group, country or area of destination\": \"Source\",\n",
    "    \"Region, development group, country or area of origin\": \"Target\"\n",
    "}, inplace=True)"
   ]
  },
  {
   "cell_type": "code",
   "execution_count": 6,
   "id": "d328995e-4b6f-4604-ab12-9f19a00ab5ea",
   "metadata": {},
   "outputs": [
    {
     "data": {
      "text/html": [
       "<div>\n",
       "<style scoped>\n",
       "    .dataframe tbody tr th:only-of-type {\n",
       "        vertical-align: middle;\n",
       "    }\n",
       "\n",
       "    .dataframe tbody tr th {\n",
       "        vertical-align: top;\n",
       "    }\n",
       "\n",
       "    .dataframe thead th {\n",
       "        text-align: right;\n",
       "    }\n",
       "</style>\n",
       "<table border=\"1\" class=\"dataframe\">\n",
       "  <thead>\n",
       "    <tr style=\"text-align: right;\">\n",
       "      <th></th>\n",
       "      <th>Source</th>\n",
       "      <th>Location code of destination</th>\n",
       "      <th>Target</th>\n",
       "      <th>Location code of origin</th>\n",
       "      <th>1990</th>\n",
       "      <th>1995</th>\n",
       "      <th>2000</th>\n",
       "      <th>2005</th>\n",
       "      <th>2010</th>\n",
       "      <th>2015</th>\n",
       "      <th>2020</th>\n",
       "      <th>2024</th>\n",
       "    </tr>\n",
       "  </thead>\n",
       "  <tbody>\n",
       "    <tr>\n",
       "      <th>0</th>\n",
       "      <td>World</td>\n",
       "      <td>900</td>\n",
       "      <td>World</td>\n",
       "      <td>900</td>\n",
       "      <td>153 916 063</td>\n",
       "      <td>163 176 002</td>\n",
       "      <td>174 566 152</td>\n",
       "      <td>192 788 721</td>\n",
       "      <td>221 020 392</td>\n",
       "      <td>250 042 020</td>\n",
       "      <td>275 284 032</td>\n",
       "      <td>304 021 813</td>\n",
       "    </tr>\n",
       "    <tr>\n",
       "      <th>1</th>\n",
       "      <td>World</td>\n",
       "      <td>900</td>\n",
       "      <td>Sub-Saharan Africa</td>\n",
       "      <td>1834</td>\n",
       "      <td>14 124 662</td>\n",
       "      <td>15 183 742</td>\n",
       "      <td>14 584 913</td>\n",
       "      <td>16 004 417</td>\n",
       "      <td>18 243 295</td>\n",
       "      <td>22 763 602</td>\n",
       "      <td>27 134 957</td>\n",
       "      <td>30 661 610</td>\n",
       "    </tr>\n",
       "    <tr>\n",
       "      <th>2</th>\n",
       "      <td>World</td>\n",
       "      <td>900</td>\n",
       "      <td>Northern Africa and Western Asia</td>\n",
       "      <td>1833</td>\n",
       "      <td>14 986 109</td>\n",
       "      <td>17 216 219</td>\n",
       "      <td>18 728 264</td>\n",
       "      <td>21 198 002</td>\n",
       "      <td>25 429 492</td>\n",
       "      <td>32 508 087</td>\n",
       "      <td>37 196 853</td>\n",
       "      <td>40 529 326</td>\n",
       "    </tr>\n",
       "    <tr>\n",
       "      <th>3</th>\n",
       "      <td>World</td>\n",
       "      <td>900</td>\n",
       "      <td>Central and Southern Asia</td>\n",
       "      <td>1831</td>\n",
       "      <td>30 342 957</td>\n",
       "      <td>27 930 630</td>\n",
       "      <td>30 008 559</td>\n",
       "      <td>32 445 580</td>\n",
       "      <td>39 400 759</td>\n",
       "      <td>46 011 893</td>\n",
       "      <td>48 594 959</td>\n",
       "      <td>53 948 417</td>\n",
       "    </tr>\n",
       "    <tr>\n",
       "      <th>4</th>\n",
       "      <td>World</td>\n",
       "      <td>900</td>\n",
       "      <td>Eastern and South-Eastern Asia</td>\n",
       "      <td>1832</td>\n",
       "      <td>14 465 509</td>\n",
       "      <td>17 262 816</td>\n",
       "      <td>20 822 011</td>\n",
       "      <td>24 315 849</td>\n",
       "      <td>30 053 666</td>\n",
       "      <td>34 562 856</td>\n",
       "      <td>38 223 520</td>\n",
       "      <td>41 409 235</td>\n",
       "    </tr>\n",
       "  </tbody>\n",
       "</table>\n",
       "</div>"
      ],
      "text/plain": [
       "  Source  Location code of destination                            Target  \\\n",
       "0  World                           900                             World   \n",
       "1  World                           900                Sub-Saharan Africa   \n",
       "2  World                           900  Northern Africa and Western Asia   \n",
       "3  World                           900         Central and Southern Asia   \n",
       "4  World                           900    Eastern and South-Eastern Asia   \n",
       "\n",
       "   Location code of origin         1990         1995         2000  \\\n",
       "0                      900  153 916 063  163 176 002  174 566 152   \n",
       "1                     1834   14 124 662   15 183 742   14 584 913   \n",
       "2                     1833   14 986 109   17 216 219   18 728 264   \n",
       "3                     1831   30 342 957   27 930 630   30 008 559   \n",
       "4                     1832   14 465 509   17 262 816   20 822 011   \n",
       "\n",
       "          2005         2010         2015         2020         2024  \n",
       "0  192 788 721  221 020 392  250 042 020  275 284 032  304 021 813  \n",
       "1   16 004 417   18 243 295   22 763 602   27 134 957   30 661 610  \n",
       "2   21 198 002   25 429 492   32 508 087   37 196 853   40 529 326  \n",
       "3   32 445 580   39 400 759   46 011 893   48 594 959   53 948 417  \n",
       "4   24 315 849   30 053 666   34 562 856   38 223 520   41 409 235  "
      ]
     },
     "execution_count": 6,
     "metadata": {},
     "output_type": "execute_result"
    }
   ],
   "source": [
    "immigrant_df.head()"
   ]
  },
  {
   "cell_type": "code",
   "execution_count": 7,
   "id": "010740fc-6ef2-4190-bb8c-98808364454b",
   "metadata": {},
   "outputs": [],
   "source": [
    "# Step 2: Reshape from wide to long format\n",
    "# Assumes year columns are named as strings like \"1990\", \"1995\", ..., \"2024\"\n",
    "year_columns = ['1990', '1995', '2000', '2005', '2010', '2015', '2020']"
   ]
  },
  {
   "cell_type": "code",
   "execution_count": 8,
   "id": "aee919ae-5c97-4310-91e6-5ece414b6bc6",
   "metadata": {},
   "outputs": [
    {
     "data": {
      "text/plain": [
       "['1990', '1995', '2000', '2005', '2010', '2015', '2020']"
      ]
     },
     "execution_count": 8,
     "metadata": {},
     "output_type": "execute_result"
    }
   ],
   "source": [
    "year_columns"
   ]
  },
  {
   "cell_type": "code",
   "execution_count": 9,
   "id": "b52f35e7-a1f2-4e83-ad87-cbff0fec7822",
   "metadata": {},
   "outputs": [],
   "source": [
    "immigrant_edge_df = immigrant_df.melt(\n",
    "    id_vars=[\"Source\", \"Target\"],\n",
    "    value_vars=year_columns,\n",
    "    var_name=\"Year\",\n",
    "    value_name=\"Migrated\"\n",
    ")"
   ]
  },
  {
   "cell_type": "code",
   "execution_count": 10,
   "id": "d4d41dfd-e443-44e1-8aa3-74064c45327e",
   "metadata": {},
   "outputs": [
    {
     "data": {
      "text/plain": [
       "(196210, 4)"
      ]
     },
     "execution_count": 10,
     "metadata": {},
     "output_type": "execute_result"
    }
   ],
   "source": [
    "immigrant_edge_df.shape"
   ]
  },
  {
   "cell_type": "code",
   "execution_count": 11,
   "id": "581c922a-112b-4f2a-9014-b78425ada781",
   "metadata": {},
   "outputs": [
    {
     "data": {
      "text/plain": [
       "{'Source': {0: 'World', 1: 'World', 2: 'World', 3: 'World', 4: 'World'},\n",
       " 'Target': {0: 'World',\n",
       "  1: 'Sub-Saharan Africa',\n",
       "  2: 'Northern Africa and Western Asia',\n",
       "  3: 'Central and Southern Asia',\n",
       "  4: 'Eastern and South-Eastern Asia'},\n",
       " 'Year': {0: '1990', 1: '1990', 2: '1990', 3: '1990', 4: '1990'},\n",
       " 'Migrated': {0: '153 916 063',\n",
       "  1: '14 124 662',\n",
       "  2: '14 986 109',\n",
       "  3: '30 342 957',\n",
       "  4: '14 465 509'}}"
      ]
     },
     "execution_count": 11,
     "metadata": {},
     "output_type": "execute_result"
    }
   ],
   "source": [
    "immigrant_edge_df.head().to_dict()"
   ]
  },
  {
   "cell_type": "code",
   "execution_count": 12,
   "id": "4a12750c-91e2-484d-8999-d94ae407a466",
   "metadata": {
    "scrolled": true
   },
   "outputs": [],
   "source": [
    "immigrant_edge_df[\"Migrated\"] = immigrant_edge_df[\"Migrated\"].replace({\" \": \"\"}, regex=True)\n",
    "# immigrant_edge_df[\"Migrated\"] = immigrant_edge_df[\"Migrated\"].astype(int)\n",
    "immigrant_edge_df[\"Year\"] = immigrant_edge_df[\"Year\"].astype(int)"
   ]
  },
  {
   "cell_type": "code",
   "execution_count": 13,
   "id": "4c3e3e08-a638-4c66-a85d-6f132fda2520",
   "metadata": {},
   "outputs": [
    {
     "data": {
      "text/html": [
       "<div>\n",
       "<style scoped>\n",
       "    .dataframe tbody tr th:only-of-type {\n",
       "        vertical-align: middle;\n",
       "    }\n",
       "\n",
       "    .dataframe tbody tr th {\n",
       "        vertical-align: top;\n",
       "    }\n",
       "\n",
       "    .dataframe thead th {\n",
       "        text-align: right;\n",
       "    }\n",
       "</style>\n",
       "<table border=\"1\" class=\"dataframe\">\n",
       "  <thead>\n",
       "    <tr style=\"text-align: right;\">\n",
       "      <th></th>\n",
       "      <th>Source</th>\n",
       "      <th>Target</th>\n",
       "      <th>Year</th>\n",
       "      <th>Migrated</th>\n",
       "    </tr>\n",
       "  </thead>\n",
       "  <tbody>\n",
       "    <tr>\n",
       "      <th>0</th>\n",
       "      <td>World</td>\n",
       "      <td>World</td>\n",
       "      <td>1990</td>\n",
       "      <td>153916063</td>\n",
       "    </tr>\n",
       "    <tr>\n",
       "      <th>1</th>\n",
       "      <td>World</td>\n",
       "      <td>Sub-Saharan Africa</td>\n",
       "      <td>1990</td>\n",
       "      <td>14124662</td>\n",
       "    </tr>\n",
       "    <tr>\n",
       "      <th>2</th>\n",
       "      <td>World</td>\n",
       "      <td>Northern Africa and Western Asia</td>\n",
       "      <td>1990</td>\n",
       "      <td>14986109</td>\n",
       "    </tr>\n",
       "    <tr>\n",
       "      <th>3</th>\n",
       "      <td>World</td>\n",
       "      <td>Central and Southern Asia</td>\n",
       "      <td>1990</td>\n",
       "      <td>30342957</td>\n",
       "    </tr>\n",
       "    <tr>\n",
       "      <th>4</th>\n",
       "      <td>World</td>\n",
       "      <td>Eastern and South-Eastern Asia</td>\n",
       "      <td>1990</td>\n",
       "      <td>14465509</td>\n",
       "    </tr>\n",
       "  </tbody>\n",
       "</table>\n",
       "</div>"
      ],
      "text/plain": [
       "  Source                            Target  Year   Migrated\n",
       "0  World                             World  1990  153916063\n",
       "1  World                Sub-Saharan Africa  1990   14124662\n",
       "2  World  Northern Africa and Western Asia  1990   14986109\n",
       "3  World         Central and Southern Asia  1990   30342957\n",
       "4  World    Eastern and South-Eastern Asia  1990   14465509"
      ]
     },
     "execution_count": 13,
     "metadata": {},
     "output_type": "execute_result"
    }
   ],
   "source": [
    "immigrant_edge_df.head()"
   ]
  },
  {
   "cell_type": "code",
   "execution_count": 14,
   "id": "ba0ff99f-b8ef-468f-a969-52f4abddba49",
   "metadata": {},
   "outputs": [],
   "source": [
    "immigrant_edge_df.to_csv(\"dataset/migration-edges.csv\", index=False)"
   ]
  },
  {
   "cell_type": "code",
   "execution_count": null,
   "id": "03e521b7-8559-4af2-981d-29c44d877f35",
   "metadata": {},
   "outputs": [],
   "source": []
  },
  {
   "cell_type": "code",
   "execution_count": 15,
   "id": "1e05b497-8833-4b88-9297-7b94f065611d",
   "metadata": {},
   "outputs": [],
   "source": [
    "unique_sources = immigrant_edge_df[\"Source\"].unique()\n",
    "unique_targets = immigrant_edge_df[\"Target\"].unique()\n",
    "\n",
    "# Combine and get unique values across both columns\n",
    "all_unique_ids = pd.Series(list(unique_sources) + list(unique_targets)).unique()\n",
    "\n",
    "# Create a new DataFrame for nodes with a single 'Id' column\n",
    "nodes_df = pd.DataFrame({\"Id\": all_unique_ids, 'Label': all_unique_ids})\n",
    "# nodes_df['gdp'] = 0"
   ]
  },
  {
   "cell_type": "code",
   "execution_count": 16,
   "id": "2266a712-ceab-4eb1-aa5e-eb7a36cedd81",
   "metadata": {},
   "outputs": [
    {
     "data": {
      "text/plain": [
       "(286, 285)"
      ]
     },
     "execution_count": 16,
     "metadata": {},
     "output_type": "execute_result"
    }
   ],
   "source": [
    "len(unique_sources), len(unique_targets)"
   ]
  },
  {
   "cell_type": "code",
   "execution_count": 17,
   "id": "73bc0085-f7d7-47f0-b841-b5bf5c37e61b",
   "metadata": {},
   "outputs": [
    {
     "data": {
      "text/plain": [
       "(287, 2)"
      ]
     },
     "execution_count": 17,
     "metadata": {},
     "output_type": "execute_result"
    }
   ],
   "source": [
    "nodes_df.shape"
   ]
  },
  {
   "cell_type": "code",
   "execution_count": 18,
   "id": "1511ad31-b9be-4820-97c7-56bd7bc8ae21",
   "metadata": {},
   "outputs": [
    {
     "data": {
      "text/html": [
       "<div>\n",
       "<style scoped>\n",
       "    .dataframe tbody tr th:only-of-type {\n",
       "        vertical-align: middle;\n",
       "    }\n",
       "\n",
       "    .dataframe tbody tr th {\n",
       "        vertical-align: top;\n",
       "    }\n",
       "\n",
       "    .dataframe thead th {\n",
       "        text-align: right;\n",
       "    }\n",
       "</style>\n",
       "<table border=\"1\" class=\"dataframe\">\n",
       "  <thead>\n",
       "    <tr style=\"text-align: right;\">\n",
       "      <th></th>\n",
       "      <th>Id</th>\n",
       "      <th>Label</th>\n",
       "    </tr>\n",
       "  </thead>\n",
       "  <tbody>\n",
       "    <tr>\n",
       "      <th>0</th>\n",
       "      <td>World</td>\n",
       "      <td>World</td>\n",
       "    </tr>\n",
       "    <tr>\n",
       "      <th>1</th>\n",
       "      <td>Sub-Saharan Africa</td>\n",
       "      <td>Sub-Saharan Africa</td>\n",
       "    </tr>\n",
       "    <tr>\n",
       "      <th>2</th>\n",
       "      <td>Northern Africa and Western Asia</td>\n",
       "      <td>Northern Africa and Western Asia</td>\n",
       "    </tr>\n",
       "    <tr>\n",
       "      <th>3</th>\n",
       "      <td>Central and Southern Asia</td>\n",
       "      <td>Central and Southern Asia</td>\n",
       "    </tr>\n",
       "    <tr>\n",
       "      <th>4</th>\n",
       "      <td>Eastern and South-Eastern Asia</td>\n",
       "      <td>Eastern and South-Eastern Asia</td>\n",
       "    </tr>\n",
       "  </tbody>\n",
       "</table>\n",
       "</div>"
      ],
      "text/plain": [
       "                                 Id                             Label\n",
       "0                             World                             World\n",
       "1                Sub-Saharan Africa                Sub-Saharan Africa\n",
       "2  Northern Africa and Western Asia  Northern Africa and Western Asia\n",
       "3         Central and Southern Asia         Central and Southern Asia\n",
       "4    Eastern and South-Eastern Asia    Eastern and South-Eastern Asia"
      ]
     },
     "execution_count": 18,
     "metadata": {},
     "output_type": "execute_result"
    }
   ],
   "source": [
    "nodes_df.head()"
   ]
  },
  {
   "cell_type": "code",
   "execution_count": 19,
   "id": "7c30fc16-dfd5-4b03-b056-30d25886eecb",
   "metadata": {},
   "outputs": [],
   "source": [
    "nodes_df.to_csv(\"../dataset/migration-nodes.csv\", index=False)"
   ]
  },
  {
   "cell_type": "code",
   "execution_count": null,
   "id": "6a14dd18-9791-412e-9293-688ebff73ccf",
   "metadata": {},
   "outputs": [],
   "source": []
  },
  {
   "cell_type": "code",
   "execution_count": 23,
   "id": "0614a639-a282-4f2f-8a97-56d719ca5b61",
   "metadata": {},
   "outputs": [],
   "source": [
    "gdp_df = pd.read_csv(\"../dataset/gdp-worldbank/gdp-worldbank-constant-usd.csv\")"
   ]
  },
  {
   "cell_type": "code",
   "execution_count": 24,
   "id": "8b581bc4-4489-4070-8ee1-62e58e9a96e6",
   "metadata": {},
   "outputs": [
    {
     "data": {
      "text/plain": [
       "(11960, 4)"
      ]
     },
     "execution_count": 24,
     "metadata": {},
     "output_type": "execute_result"
    }
   ],
   "source": [
    "gdp_df.shape"
   ]
  },
  {
   "cell_type": "code",
   "execution_count": 25,
   "id": "d26fa858-e247-4976-84e1-6b68ea8133cc",
   "metadata": {},
   "outputs": [
    {
     "data": {
      "text/html": [
       "<div>\n",
       "<style scoped>\n",
       "    .dataframe tbody tr th:only-of-type {\n",
       "        vertical-align: middle;\n",
       "    }\n",
       "\n",
       "    .dataframe tbody tr th {\n",
       "        vertical-align: top;\n",
       "    }\n",
       "\n",
       "    .dataframe thead th {\n",
       "        text-align: right;\n",
       "    }\n",
       "</style>\n",
       "<table border=\"1\" class=\"dataframe\">\n",
       "  <thead>\n",
       "    <tr style=\"text-align: right;\">\n",
       "      <th></th>\n",
       "      <th>Entity</th>\n",
       "      <th>Code</th>\n",
       "      <th>Year</th>\n",
       "      <th>GDP (constant 2015 US$)</th>\n",
       "    </tr>\n",
       "  </thead>\n",
       "  <tbody>\n",
       "    <tr>\n",
       "      <th>0</th>\n",
       "      <td>Afghanistan</td>\n",
       "      <td>AFG</td>\n",
       "      <td>2000</td>\n",
       "      <td>6.206548e+09</td>\n",
       "    </tr>\n",
       "    <tr>\n",
       "      <th>1</th>\n",
       "      <td>Afghanistan</td>\n",
       "      <td>AFG</td>\n",
       "      <td>2001</td>\n",
       "      <td>5.621148e+09</td>\n",
       "    </tr>\n",
       "    <tr>\n",
       "      <th>2</th>\n",
       "      <td>Afghanistan</td>\n",
       "      <td>AFG</td>\n",
       "      <td>2002</td>\n",
       "      <td>7.228796e+09</td>\n",
       "    </tr>\n",
       "    <tr>\n",
       "      <th>3</th>\n",
       "      <td>Afghanistan</td>\n",
       "      <td>AFG</td>\n",
       "      <td>2003</td>\n",
       "      <td>7.867264e+09</td>\n",
       "    </tr>\n",
       "    <tr>\n",
       "      <th>4</th>\n",
       "      <td>Afghanistan</td>\n",
       "      <td>AFG</td>\n",
       "      <td>2004</td>\n",
       "      <td>7.978516e+09</td>\n",
       "    </tr>\n",
       "  </tbody>\n",
       "</table>\n",
       "</div>"
      ],
      "text/plain": [
       "        Entity Code  Year  GDP (constant 2015 US$)\n",
       "0  Afghanistan  AFG  2000             6.206548e+09\n",
       "1  Afghanistan  AFG  2001             5.621148e+09\n",
       "2  Afghanistan  AFG  2002             7.228796e+09\n",
       "3  Afghanistan  AFG  2003             7.867264e+09\n",
       "4  Afghanistan  AFG  2004             7.978516e+09"
      ]
     },
     "execution_count": 25,
     "metadata": {},
     "output_type": "execute_result"
    }
   ],
   "source": [
    "gdp_df.head()"
   ]
  },
  {
   "cell_type": "code",
   "execution_count": 26,
   "id": "d5e892ed-238b-4d2b-a32f-755265b4fdae",
   "metadata": {},
   "outputs": [],
   "source": [
    "gdp_df.rename(columns={\"Entity\": \"Target\", \"GDP (constant 2015 US$)\": \"gdp\"}, inplace=True)"
   ]
  },
  {
   "cell_type": "code",
   "execution_count": 27,
   "id": "5cb3bdb2-f82f-4b2f-a353-e35ddf451a09",
   "metadata": {},
   "outputs": [],
   "source": [
    "gdp_df[\"gdp\"] = gdp_df[\"gdp\"].astype(int)"
   ]
  },
  {
   "cell_type": "code",
   "execution_count": 28,
   "id": "c29e2551-974c-45ba-971b-adc62ed003a7",
   "metadata": {},
   "outputs": [],
   "source": [
    "# Define the list of desired year columns\n",
    "year_columns = list(map(int, year_columns))  # Convert to integers to match df_long's Year column\n",
    "\n",
    "# Filter df_long where Year is in the specified list\n",
    "filtered_gdp_df = gdp_df[gdp_df[\"Year\"].isin(year_columns)]"
   ]
  },
  {
   "cell_type": "code",
   "execution_count": 29,
   "id": "778dd921-9949-4c09-88bd-13061c620073",
   "metadata": {},
   "outputs": [
    {
     "data": {
      "text/plain": [
       "(1509, 4)"
      ]
     },
     "execution_count": 29,
     "metadata": {},
     "output_type": "execute_result"
    }
   ],
   "source": [
    "filtered_gdp_df.shape"
   ]
  },
  {
   "cell_type": "code",
   "execution_count": 30,
   "id": "b92f7d7a-b176-460a-aff9-a614549e4038",
   "metadata": {},
   "outputs": [
    {
     "data": {
      "text/html": [
       "<div>\n",
       "<style scoped>\n",
       "    .dataframe tbody tr th:only-of-type {\n",
       "        vertical-align: middle;\n",
       "    }\n",
       "\n",
       "    .dataframe tbody tr th {\n",
       "        vertical-align: top;\n",
       "    }\n",
       "\n",
       "    .dataframe thead th {\n",
       "        text-align: right;\n",
       "    }\n",
       "</style>\n",
       "<table border=\"1\" class=\"dataframe\">\n",
       "  <thead>\n",
       "    <tr style=\"text-align: right;\">\n",
       "      <th></th>\n",
       "      <th>Target</th>\n",
       "      <th>Code</th>\n",
       "      <th>Year</th>\n",
       "      <th>gdp</th>\n",
       "    </tr>\n",
       "  </thead>\n",
       "  <tbody>\n",
       "    <tr>\n",
       "      <th>0</th>\n",
       "      <td>Afghanistan</td>\n",
       "      <td>AFG</td>\n",
       "      <td>2000</td>\n",
       "      <td>6206547500</td>\n",
       "    </tr>\n",
       "    <tr>\n",
       "      <th>5</th>\n",
       "      <td>Afghanistan</td>\n",
       "      <td>AFG</td>\n",
       "      <td>2005</td>\n",
       "      <td>8874481000</td>\n",
       "    </tr>\n",
       "    <tr>\n",
       "      <th>10</th>\n",
       "      <td>Afghanistan</td>\n",
       "      <td>AFG</td>\n",
       "      <td>2010</td>\n",
       "      <td>15354613000</td>\n",
       "    </tr>\n",
       "    <tr>\n",
       "      <th>15</th>\n",
       "      <td>Afghanistan</td>\n",
       "      <td>AFG</td>\n",
       "      <td>2015</td>\n",
       "      <td>19134222000</td>\n",
       "    </tr>\n",
       "    <tr>\n",
       "      <th>20</th>\n",
       "      <td>Afghanistan</td>\n",
       "      <td>AFG</td>\n",
       "      <td>2020</td>\n",
       "      <td>20621957000</td>\n",
       "    </tr>\n",
       "  </tbody>\n",
       "</table>\n",
       "</div>"
      ],
      "text/plain": [
       "         Target Code  Year          gdp\n",
       "0   Afghanistan  AFG  2000   6206547500\n",
       "5   Afghanistan  AFG  2005   8874481000\n",
       "10  Afghanistan  AFG  2010  15354613000\n",
       "15  Afghanistan  AFG  2015  19134222000\n",
       "20  Afghanistan  AFG  2020  20621957000"
      ]
     },
     "execution_count": 30,
     "metadata": {},
     "output_type": "execute_result"
    }
   ],
   "source": [
    "filtered_gdp_df.head()"
   ]
  },
  {
   "cell_type": "code",
   "execution_count": 31,
   "id": "394ed023-db8c-4791-9799-5d0b4f5ac01c",
   "metadata": {},
   "outputs": [],
   "source": [
    "# filtered_gdp_df.to_csv(\"dataset/gdp-worldbank/filtered_gdp.csv\", index=False)"
   ]
  },
  {
   "cell_type": "code",
   "execution_count": null,
   "id": "64038ca7-cdbf-4793-8c4c-657445bc4011",
   "metadata": {},
   "outputs": [],
   "source": []
  },
  {
   "cell_type": "code",
   "execution_count": 32,
   "id": "b49f4577-3e6a-4729-b28f-78e2a4c34e6b",
   "metadata": {},
   "outputs": [],
   "source": [
    "# Merge both DataFrames on 'Id' and 'Year'\n",
    "gdp_edge_merged_df = pd.merge(immigrant_edge_df, filtered_gdp_df, on=[\"Target\", \"Year\"], how=\"inner\")\n",
    "# merged_df = pd.merge(df_long, filtered_gdp_df, on=[\"Source\", \"Id\", \"Year\"], how=\"inner\")"
   ]
  },
  {
   "cell_type": "code",
   "execution_count": 33,
   "id": "145d7a51-7316-4afa-a659-6bddea0c7a13",
   "metadata": {},
   "outputs": [],
   "source": [
    "gdp_edge_merged_df.rename(columns={\"gdp\": \"target_country_gdp\"}, inplace=True)"
   ]
  },
  {
   "cell_type": "code",
   "execution_count": 34,
   "id": "72793c55-dc93-4dcf-929f-14baf9e51948",
   "metadata": {},
   "outputs": [
    {
     "data": {
      "text/html": [
       "<div>\n",
       "<style scoped>\n",
       "    .dataframe tbody tr th:only-of-type {\n",
       "        vertical-align: middle;\n",
       "    }\n",
       "\n",
       "    .dataframe tbody tr th {\n",
       "        vertical-align: top;\n",
       "    }\n",
       "\n",
       "    .dataframe thead th {\n",
       "        text-align: right;\n",
       "    }\n",
       "</style>\n",
       "<table border=\"1\" class=\"dataframe\">\n",
       "  <thead>\n",
       "    <tr style=\"text-align: right;\">\n",
       "      <th></th>\n",
       "      <th>Source</th>\n",
       "      <th>Target</th>\n",
       "      <th>Year</th>\n",
       "      <th>Migrated</th>\n",
       "      <th>Code</th>\n",
       "      <th>target_country_gdp</th>\n",
       "    </tr>\n",
       "  </thead>\n",
       "  <tbody>\n",
       "    <tr>\n",
       "      <th>0</th>\n",
       "      <td>World</td>\n",
       "      <td>World</td>\n",
       "      <td>1990</td>\n",
       "      <td>153916063</td>\n",
       "      <td>OWID_WRL</td>\n",
       "      <td>36053260000000</td>\n",
       "    </tr>\n",
       "    <tr>\n",
       "      <th>1</th>\n",
       "      <td>Sub-Saharan Africa</td>\n",
       "      <td>World</td>\n",
       "      <td>1990</td>\n",
       "      <td>13802710</td>\n",
       "      <td>OWID_WRL</td>\n",
       "      <td>36053260000000</td>\n",
       "    </tr>\n",
       "    <tr>\n",
       "      <th>2</th>\n",
       "      <td>Northern Africa and Western Asia</td>\n",
       "      <td>World</td>\n",
       "      <td>1990</td>\n",
       "      <td>16863681</td>\n",
       "      <td>OWID_WRL</td>\n",
       "      <td>36053260000000</td>\n",
       "    </tr>\n",
       "    <tr>\n",
       "      <th>3</th>\n",
       "      <td>Central and Southern Asia</td>\n",
       "      <td>World</td>\n",
       "      <td>1990</td>\n",
       "      <td>25456471</td>\n",
       "      <td>OWID_WRL</td>\n",
       "      <td>36053260000000</td>\n",
       "    </tr>\n",
       "    <tr>\n",
       "      <th>4</th>\n",
       "      <td>Eastern and South-Eastern Asia</td>\n",
       "      <td>World</td>\n",
       "      <td>1990</td>\n",
       "      <td>6755128</td>\n",
       "      <td>OWID_WRL</td>\n",
       "      <td>36053260000000</td>\n",
       "    </tr>\n",
       "  </tbody>\n",
       "</table>\n",
       "</div>"
      ],
      "text/plain": [
       "                             Source Target  Year   Migrated      Code  \\\n",
       "0                             World  World  1990  153916063  OWID_WRL   \n",
       "1                Sub-Saharan Africa  World  1990   13802710  OWID_WRL   \n",
       "2  Northern Africa and Western Asia  World  1990   16863681  OWID_WRL   \n",
       "3         Central and Southern Asia  World  1990   25456471  OWID_WRL   \n",
       "4    Eastern and South-Eastern Asia  World  1990    6755128  OWID_WRL   \n",
       "\n",
       "   target_country_gdp  \n",
       "0      36053260000000  \n",
       "1      36053260000000  \n",
       "2      36053260000000  \n",
       "3      36053260000000  \n",
       "4      36053260000000  "
      ]
     },
     "execution_count": 34,
     "metadata": {},
     "output_type": "execute_result"
    }
   ],
   "source": [
    "gdp_edge_merged_df.head()"
   ]
  },
  {
   "cell_type": "code",
   "execution_count": 35,
   "id": "19fe29c2-67ab-42d5-b782-f9564c9621ea",
   "metadata": {},
   "outputs": [],
   "source": [
    "gdp_edge_merged_df = gdp_edge_merged_df[[\"Source\", \"Target\", \"Year\", \"target_country_gdp\", \"Migrated\"]]"
   ]
  },
  {
   "cell_type": "code",
   "execution_count": 36,
   "id": "4625622b-905e-4fbb-9a69-e5b1eaea805d",
   "metadata": {},
   "outputs": [
    {
     "data": {
      "text/plain": [
       "(101562, 5)"
      ]
     },
     "execution_count": 36,
     "metadata": {},
     "output_type": "execute_result"
    }
   ],
   "source": [
    "gdp_edge_merged_df.shape"
   ]
  },
  {
   "cell_type": "code",
   "execution_count": 37,
   "id": "02992152-d446-44ef-b553-ac2f71eae87f",
   "metadata": {},
   "outputs": [
    {
     "data": {
      "text/html": [
       "<div>\n",
       "<style scoped>\n",
       "    .dataframe tbody tr th:only-of-type {\n",
       "        vertical-align: middle;\n",
       "    }\n",
       "\n",
       "    .dataframe tbody tr th {\n",
       "        vertical-align: top;\n",
       "    }\n",
       "\n",
       "    .dataframe thead th {\n",
       "        text-align: right;\n",
       "    }\n",
       "</style>\n",
       "<table border=\"1\" class=\"dataframe\">\n",
       "  <thead>\n",
       "    <tr style=\"text-align: right;\">\n",
       "      <th></th>\n",
       "      <th>Source</th>\n",
       "      <th>Target</th>\n",
       "      <th>Year</th>\n",
       "      <th>target_country_gdp</th>\n",
       "      <th>Migrated</th>\n",
       "    </tr>\n",
       "  </thead>\n",
       "  <tbody>\n",
       "    <tr>\n",
       "      <th>0</th>\n",
       "      <td>World</td>\n",
       "      <td>World</td>\n",
       "      <td>1990</td>\n",
       "      <td>36053260000000</td>\n",
       "      <td>153916063</td>\n",
       "    </tr>\n",
       "    <tr>\n",
       "      <th>1</th>\n",
       "      <td>Sub-Saharan Africa</td>\n",
       "      <td>World</td>\n",
       "      <td>1990</td>\n",
       "      <td>36053260000000</td>\n",
       "      <td>13802710</td>\n",
       "    </tr>\n",
       "    <tr>\n",
       "      <th>2</th>\n",
       "      <td>Northern Africa and Western Asia</td>\n",
       "      <td>World</td>\n",
       "      <td>1990</td>\n",
       "      <td>36053260000000</td>\n",
       "      <td>16863681</td>\n",
       "    </tr>\n",
       "    <tr>\n",
       "      <th>3</th>\n",
       "      <td>Central and Southern Asia</td>\n",
       "      <td>World</td>\n",
       "      <td>1990</td>\n",
       "      <td>36053260000000</td>\n",
       "      <td>25456471</td>\n",
       "    </tr>\n",
       "    <tr>\n",
       "      <th>4</th>\n",
       "      <td>Eastern and South-Eastern Asia</td>\n",
       "      <td>World</td>\n",
       "      <td>1990</td>\n",
       "      <td>36053260000000</td>\n",
       "      <td>6755128</td>\n",
       "    </tr>\n",
       "  </tbody>\n",
       "</table>\n",
       "</div>"
      ],
      "text/plain": [
       "                             Source Target  Year  target_country_gdp  \\\n",
       "0                             World  World  1990      36053260000000   \n",
       "1                Sub-Saharan Africa  World  1990      36053260000000   \n",
       "2  Northern Africa and Western Asia  World  1990      36053260000000   \n",
       "3         Central and Southern Asia  World  1990      36053260000000   \n",
       "4    Eastern and South-Eastern Asia  World  1990      36053260000000   \n",
       "\n",
       "    Migrated  \n",
       "0  153916063  \n",
       "1   13802710  \n",
       "2   16863681  \n",
       "3   25456471  \n",
       "4    6755128  "
      ]
     },
     "execution_count": 37,
     "metadata": {},
     "output_type": "execute_result"
    }
   ],
   "source": [
    "gdp_edge_merged_df.head()"
   ]
  },
  {
   "cell_type": "code",
   "execution_count": 38,
   "id": "1ebd8d1b-63fb-487c-9f49-7bc35144c47b",
   "metadata": {},
   "outputs": [],
   "source": [
    "gdp_edge_merged_df.to_csv(\"../dataset/migration-edges.csv\", index=False)"
   ]
  },
  {
   "cell_type": "code",
   "execution_count": 39,
   "id": "501f4041-96e0-41d7-8cb3-70b31f015c95",
   "metadata": {},
   "outputs": [],
   "source": [
    "gdp_edge_2020_df = gdp_edge_merged_df[gdp_edge_merged_df[\"Year\"]==2020]"
   ]
  },
  {
   "cell_type": "code",
   "execution_count": 40,
   "id": "683216dd-104e-4d1e-9715-9021a30d81a5",
   "metadata": {},
   "outputs": [
    {
     "data": {
      "text/plain": [
       "(14458, 5)"
      ]
     },
     "execution_count": 40,
     "metadata": {},
     "output_type": "execute_result"
    }
   ],
   "source": [
    "gdp_edge_2020_df.shape"
   ]
  },
  {
   "cell_type": "code",
   "execution_count": 41,
   "id": "27f409d3-84e5-49d6-890c-f587bc210552",
   "metadata": {},
   "outputs": [
    {
     "data": {
      "text/html": [
       "<div>\n",
       "<style scoped>\n",
       "    .dataframe tbody tr th:only-of-type {\n",
       "        vertical-align: middle;\n",
       "    }\n",
       "\n",
       "    .dataframe tbody tr th {\n",
       "        vertical-align: top;\n",
       "    }\n",
       "\n",
       "    .dataframe thead th {\n",
       "        text-align: right;\n",
       "    }\n",
       "</style>\n",
       "<table border=\"1\" class=\"dataframe\">\n",
       "  <thead>\n",
       "    <tr style=\"text-align: right;\">\n",
       "      <th></th>\n",
       "      <th>Source</th>\n",
       "      <th>Target</th>\n",
       "      <th>Year</th>\n",
       "      <th>target_country_gdp</th>\n",
       "      <th>Migrated</th>\n",
       "    </tr>\n",
       "  </thead>\n",
       "  <tbody>\n",
       "    <tr>\n",
       "      <th>87104</th>\n",
       "      <td>World</td>\n",
       "      <td>World</td>\n",
       "      <td>2020</td>\n",
       "      <td>82677380000000</td>\n",
       "      <td>275284032</td>\n",
       "    </tr>\n",
       "    <tr>\n",
       "      <th>87105</th>\n",
       "      <td>Sub-Saharan Africa</td>\n",
       "      <td>World</td>\n",
       "      <td>2020</td>\n",
       "      <td>82677380000000</td>\n",
       "      <td>22040895</td>\n",
       "    </tr>\n",
       "    <tr>\n",
       "      <th>87106</th>\n",
       "      <td>Northern Africa and Western Asia</td>\n",
       "      <td>World</td>\n",
       "      <td>2020</td>\n",
       "      <td>82677380000000</td>\n",
       "      <td>48992329</td>\n",
       "    </tr>\n",
       "    <tr>\n",
       "      <th>87107</th>\n",
       "      <td>Central and Southern Asia</td>\n",
       "      <td>World</td>\n",
       "      <td>2020</td>\n",
       "      <td>82677380000000</td>\n",
       "      <td>17736883</td>\n",
       "    </tr>\n",
       "    <tr>\n",
       "      <th>87108</th>\n",
       "      <td>Eastern and South-Eastern Asia</td>\n",
       "      <td>World</td>\n",
       "      <td>2020</td>\n",
       "      <td>82677380000000</td>\n",
       "      <td>21161853</td>\n",
       "    </tr>\n",
       "  </tbody>\n",
       "</table>\n",
       "</div>"
      ],
      "text/plain": [
       "                                 Source Target  Year  target_country_gdp  \\\n",
       "87104                             World  World  2020      82677380000000   \n",
       "87105                Sub-Saharan Africa  World  2020      82677380000000   \n",
       "87106  Northern Africa and Western Asia  World  2020      82677380000000   \n",
       "87107         Central and Southern Asia  World  2020      82677380000000   \n",
       "87108    Eastern and South-Eastern Asia  World  2020      82677380000000   \n",
       "\n",
       "        Migrated  \n",
       "87104  275284032  \n",
       "87105   22040895  \n",
       "87106   48992329  \n",
       "87107   17736883  \n",
       "87108   21161853  "
      ]
     },
     "execution_count": 41,
     "metadata": {},
     "output_type": "execute_result"
    }
   ],
   "source": [
    "gdp_edge_2020_df.head()"
   ]
  },
  {
   "cell_type": "code",
   "execution_count": 42,
   "id": "0fa1c435-27b8-421f-9057-4b05166e2b98",
   "metadata": {},
   "outputs": [],
   "source": [
    "gdp_edge_2020_df.to_csv(\"../dataset/migration2020-edges.csv\", index=False)"
   ]
  },
  {
   "cell_type": "code",
   "execution_count": null,
   "id": "1b26087f-337e-41a7-ac71-a36c9285350c",
   "metadata": {},
   "outputs": [],
   "source": []
  }
 ],
 "metadata": {
  "kernelspec": {
   "display_name": "Python 3 (ipykernel)",
   "language": "python",
   "name": "python3"
  },
  "language_info": {
   "codemirror_mode": {
    "name": "ipython",
    "version": 3
   },
   "file_extension": ".py",
   "mimetype": "text/x-python",
   "name": "python",
   "nbconvert_exporter": "python",
   "pygments_lexer": "ipython3",
   "version": "3.11.4"
  }
 },
 "nbformat": 4,
 "nbformat_minor": 5
}
